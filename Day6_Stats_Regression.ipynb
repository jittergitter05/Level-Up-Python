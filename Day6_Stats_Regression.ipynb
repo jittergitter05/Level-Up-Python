{
 "cells": [
  {
   "cell_type": "markdown",
   "id": "cc09f547",
   "metadata": {},
   "source": [
    "# 📊 Day 6: Statistics & Regression Notebook"
   ]
  },
  {
   "cell_type": "markdown",
   "id": "58bcaadc",
   "metadata": {},
   "source": [
    "**Topics Covered:**\n",
    "- Confidence Intervals\n",
    "- Sampling Distributions\n",
    "- Regression Basics"
   ]
  },
  {
   "cell_type": "code",
   "execution_count": null,
   "id": "a17be5ce",
   "metadata": {},
   "outputs": [],
   "source": [
    "# Imports\n",
    "import numpy as np\n",
    "import pandas as pd\n",
    "import seaborn as sns\n",
    "import matplotlib.pyplot as plt\n",
    "from scipy import stats\n",
    "from sklearn.linear_model import LinearRegression"
   ]
  },
  {
   "cell_type": "markdown",
   "id": "ec6e95ac",
   "metadata": {},
   "source": [
    "## Confidence Interval Comparison: Smokers vs Non-Smokers"
   ]
  },
  {
   "cell_type": "code",
   "execution_count": null,
   "id": "7174e8fe",
   "metadata": {},
   "outputs": [],
   "source": [
    "# Simulated data\n",
    "np.random.seed(42)\n",
    "smokers = np.random.normal(loc=160, scale=10, size=30)\n",
    "non_smokers = np.random.normal(loc=155, scale=12, size=30)\n",
    "\n",
    "# CI function\n",
    "def confidence_interval(data, confidence=0.95):\n",
    "    mean = np.mean(data)\n",
    "    sem = stats.sem(data)\n",
    "    margin = sem * stats.t.ppf((1 + confidence) / 2, len(data)-1)\n",
    "    return (mean - margin, mean + margin)\n",
    "\n",
    "ci_smokers = confidence_interval(smokers)\n",
    "ci_non_smokers = confidence_interval(non_smokers)\n",
    "print(f\"Smokers CI: {ci_smokers}\\nNon-Smokers CI: {ci_non_smokers}\")"
   ]
  },
  {
   "cell_type": "markdown",
   "id": "b744f8f8",
   "metadata": {},
   "source": [
    "## Visualizing Sampling Distribution"
   ]
  },
  {
   "cell_type": "code",
   "execution_count": null,
   "id": "82feab1a",
   "metadata": {},
   "outputs": [],
   "source": [
    "# Central Limit Theorem demo\n",
    "sample_means = [np.mean(np.random.choice(smokers, size=10)) for _ in range(1000)]\n",
    "sns.histplot(sample_means, kde=True)\n",
    "plt.title(\"Sampling Distribution of Smokers (n=10)\")\n",
    "plt.xlabel(\"Sample Mean\")\n",
    "plt.show()"
   ]
  },
  {
   "cell_type": "markdown",
   "id": "7880813a",
   "metadata": {},
   "source": [
    "## Simple Linear Regression"
   ]
  },
  {
   "cell_type": "code",
   "execution_count": null,
   "id": "54f069cf",
   "metadata": {},
   "outputs": [],
   "source": [
    "# Sample data\n",
    "X = np.array([1, 2, 3, 4, 5]).reshape(-1, 1)\n",
    "y = np.array([2, 4, 5, 4, 5])\n",
    "\n",
    "model = LinearRegression()\n",
    "model.fit(X, y)\n",
    "\n",
    "print(f\"Coefficient: {model.coef_[0]}\")\n",
    "print(f\"Intercept: {model.intercept_}\")\n",
    "\n",
    "plt.scatter(X, y, color='blue')\n",
    "plt.plot(X, model.predict(X), color='red')\n",
    "plt.title(\"Simple Linear Regression\")\n",
    "plt.xlabel(\"X\")\n",
    "plt.ylabel(\"y\")\n",
    "plt.show()"
   ]
  }
 ],
 "metadata": {},
 "nbformat": 4,
 "nbformat_minor": 5
}

{
 "cells": [
  {
   "cell_type": "markdown",
   "id": "57c54c0d",
   "metadata": {},
   "source": [
    "# 📘 Day 4: Python Practice – Google Advanced Data Analytics"
   ]
  },
  {
   "cell_type": "markdown",
   "id": "fd4f7301",
   "metadata": {},
   "source": [
    "**Date:** 2025-07-18\n",
    "\n",
    "**Focus:** Pure code practice – Control Flow, Functions, Pandas"
   ]
  },
  {
   "cell_type": "markdown",
   "id": "cfa85932",
   "metadata": {},
   "source": [
    "## ✅ Control Flow"
   ]
  },
  {
   "cell_type": "code",
   "execution_count": null,
   "id": "1509219c",
   "metadata": {},
   "outputs": [],
   "source": [
    "# For loop example\n",
    "for i in range(5):\n",
    "    print(\"Iteration:\", i)\n",
    "\n",
    "# While loop example\n",
    "count = 0\n",
    "while count < 5:\n",
    "    print(\"While loop count:\", count)\n",
    "    count += 1\n",
    "\n",
    "# If-else example\n",
    "x = 10\n",
    "if x > 5:\n",
    "    print(\"x is greater than 5\")\n",
    "elif x == 5:\n",
    "    print(\"x is equal to 5\")\n",
    "else:\n",
    "    print(\"x is less than 5\")\n"
   ]
  },
  {
   "cell_type": "markdown",
   "id": "18610196",
   "metadata": {},
   "source": [
    "## ✅ Functions"
   ]
  },
  {
   "cell_type": "code",
   "execution_count": null,
   "id": "1456a119",
   "metadata": {},
   "outputs": [],
   "source": [
    "# Define a simple function\n",
    "def greet(name):\n",
    "    return f\"Hello, {name}!\"\n",
    "\n",
    "# Call the function\n",
    "print(greet(\"Kaisif\"))\n",
    "\n",
    "# Function with arithmetic\n",
    "def square(n):\n",
    "    return n * n\n",
    "\n",
    "print(\"Square of 4:\", square(4))\n"
   ]
  },
  {
   "cell_type": "markdown",
   "id": "0221cc9d",
   "metadata": {},
   "source": [
    "## ✅ Intro to Pandas"
   ]
  },
  {
   "cell_type": "code",
   "execution_count": null,
   "id": "68d113d8",
   "metadata": {},
   "outputs": [],
   "source": [
    "import pandas as pd\n",
    "\n",
    "# Create DataFrame from dictionary\n",
    "data = {\n",
    "    'Name': ['Alice', 'Bob', 'Charlie'],\n",
    "    'Age': [25, 30, 35]\n",
    "}\n",
    "df = pd.DataFrame(data)\n",
    "print(df)\n",
    "\n",
    "# Read CSV example (assuming a CSV is available)\n",
    "# df = pd.read_csv('sample.csv')\n",
    "\n",
    "# Filtering example\n",
    "print(df[df['Age'] > 25])\n",
    "\n",
    "# Sorting\n",
    "print(df.sort_values(by='Age', ascending=False))\n"
   ]
  },
  {
   "cell_type": "markdown",
   "id": "5e267465",
   "metadata": {},
   "source": [
    "## 🧠 Summary\n",
    "- Practiced core Python constructs\n",
    "- Wrote custom functions\n",
    "- Used Pandas for basic data wrangling tasks"
   ]
  }
 ],
 "metadata": {},
 "nbformat": 4,
 "nbformat_minor": 5
}

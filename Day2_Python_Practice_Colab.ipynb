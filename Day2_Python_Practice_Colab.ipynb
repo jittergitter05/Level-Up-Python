{
 "cells": [
  {
   "cell_type": "markdown",
   "id": "baccadcc",
   "metadata": {},
   "source": [
    "# 🧠 Python Practice Problems – Day 2 (Google DAA)"
   ]
  },
  {
   "cell_type": "markdown",
   "id": "78bacb12",
   "metadata": {},
   "source": [
    "## 1. List vs Tuple Mutation\n",
    "**Guide:** Lists are mutable, meaning you can change their contents. Tuples are immutable. Use them when data shouldn't change."
   ]
  },
  {
   "cell_type": "code",
   "execution_count": null,
   "id": "ced64295",
   "metadata": {},
   "outputs": [],
   "source": [
    "my_list = [1, 2, 3]\n",
    "my_tuple = (4, 5, 6)\n",
    "\n",
    "# Try this:\n",
    "my_list[1] = 200\n",
    "print(my_list)  # Output: [1, 200, 3]\n",
    "\n",
    "# Now try this:\n",
    "my_tuple[1] = 500  # ❌ This will throw a TypeError\n"
   ]
  },
  {
   "cell_type": "markdown",
   "id": "0d6bfaea",
   "metadata": {},
   "source": [
    "## 2. Zip & Enumerate Usage\n",
    "**Guide:** Use zip to pair values and enumerate for indexing. Great for parallel iteration."
   ]
  },
  {
   "cell_type": "code",
   "execution_count": null,
   "id": "61753841",
   "metadata": {},
   "outputs": [],
   "source": [
    "names = [\"Alice\", \"Bob\", \"Charlie\"]\n",
    "scores = [85, 92, 78]\n",
    "\n",
    "for idx, (name, score) in enumerate(zip(names, scores), start=1):\n",
    "    print(f\"{idx}. {name} - {score}\")"
   ]
  },
  {
   "cell_type": "markdown",
   "id": "2d98ded2",
   "metadata": {},
   "source": [
    "## 3. List Comprehension with Filter\n",
    "**Guide:** List comprehensions let you filter and map in one line. Cleaner than loops."
   ]
  },
  {
   "cell_type": "code",
   "execution_count": null,
   "id": "7c81c961",
   "metadata": {},
   "outputs": [],
   "source": [
    "numbers = list(range(1, 21))\n",
    "even_squares = [num ** 2 for num in numbers if num % 2 == 0]\n",
    "print(even_squares)"
   ]
  },
  {
   "cell_type": "markdown",
   "id": "2cd63228",
   "metadata": {},
   "source": [
    "## 4. Dictionary Lookup\n",
    "**Guide:** Access nested dict values directly using keys. Watch for KeyError."
   ]
  },
  {
   "cell_type": "code",
   "execution_count": null,
   "id": "6ee6629c",
   "metadata": {},
   "outputs": [],
   "source": [
    "students = {\n",
    "    \"A101\": {\"name\": \"John\", \"marks\": 88},\n",
    "    \"A102\": {\"name\": \"Sara\", \"marks\": 95},\n",
    "    \"A103\": {\"name\": \"Mina\", \"marks\": 79}\n",
    "}\n",
    "\n",
    "student = students[\"A102\"]\n",
    "print(f\"{student['name']} scored {student['marks']} marks.\")"
   ]
  },
  {
   "cell_type": "markdown",
   "id": "4ea5c4ef",
   "metadata": {},
   "source": [
    "## 5. Set Operations\n",
    "**Guide:** Use set operations to combine or filter unique elements between collections."
   ]
  },
  {
   "cell_type": "code",
   "execution_count": null,
   "id": "5a69362d",
   "metadata": {},
   "outputs": [],
   "source": [
    "set1 = {1, 2, 3, 4}\n",
    "set2 = {3, 4, 5, 6}\n",
    "\n",
    "print(\"Union:\", set1 | set2)\n",
    "print(\"Intersection:\", set1 & set2)\n",
    "print(\"Symmetric Difference:\", set1 ^ set2)"
   ]
  },
  {
   "cell_type": "markdown",
   "id": "19ce3ddb",
   "metadata": {},
   "source": [
    "## 6. Importing Custom Modules\n",
    "**Guide:** Place this in a separate file. Use 'from myutils import greet' to import it in your main code."
   ]
  },
  {
   "cell_type": "code",
   "execution_count": null,
   "id": "569d0c27",
   "metadata": {},
   "outputs": [],
   "source": [
    "# myutils.py\n",
    "def greet(name):\n",
    "    print(f\"Hello, {name}!\")"
   ]
  },
  {
   "cell_type": "markdown",
   "id": "29fdc39e",
   "metadata": {},
   "source": [
    "## 7. NumPy Array Math\n",
    "**Guide:** Use NumPy arrays for fast, vectorized operations. Boolean indexing is powerful."
   ]
  },
  {
   "cell_type": "code",
   "execution_count": null,
   "id": "7f23b838",
   "metadata": {},
   "outputs": [],
   "source": [
    "import numpy as np\n",
    "\n",
    "arr = np.array([5, 10, 15, 20])\n",
    "new_arr = arr * 3\n",
    "filtered = new_arr[new_arr > 30]\n",
    "print(filtered)"
   ]
  },
  {
   "cell_type": "markdown",
   "id": "2e497942",
   "metadata": {},
   "source": [
    "## 8. Pandas DataFrame Filtering\n",
    "**Guide:** Pandas is ideal for structured data analysis. Filtering uses boolean masks."
   ]
  },
  {
   "cell_type": "code",
   "execution_count": null,
   "id": "4e163bc6",
   "metadata": {},
   "outputs": [],
   "source": [
    "import pandas as pd\n",
    "\n",
    "data = {\n",
    "    \"Name\": [\"Asha\", \"Bala\", \"Chiru\"],\n",
    "    \"Age\": [22, 25, 20],\n",
    "    \"Score\": [88, 76, 93]\n",
    "}\n",
    "\n",
    "df = pd.DataFrame(data)\n",
    "print(df[df[\"Score\"] > 85])"
   ]
  },
  {
   "cell_type": "markdown",
   "id": "c8d7aa36",
   "metadata": {},
   "source": [
    "## 9. Nested List Comprehension\n",
    "**Guide:** Nested comprehensions loop from right to left. Useful for flattening data."
   ]
  },
  {
   "cell_type": "code",
   "execution_count": null,
   "id": "ab14b819",
   "metadata": {},
   "outputs": [],
   "source": [
    "matrix = [[1, 2, 3], [4, 5, 6]]\n",
    "flattened = [item for sublist in matrix for item in sublist]\n",
    "print(flattened)"
   ]
  },
  {
   "cell_type": "markdown",
   "id": "abb7d134",
   "metadata": {},
   "source": [
    "## 10. Reverse Dictionary Lookup\n",
    "**Guide:** Reverse lookup flips keys and values. Useful when IDs or values become the lookup base."
   ]
  },
  {
   "cell_type": "code",
   "execution_count": null,
   "id": "022e5877",
   "metadata": {},
   "outputs": [],
   "source": [
    "emp_ids = {\"Kaisif\": 102, \"Rehan\": 103, \"Aarav\": 104}\n",
    "reversed_dict = {v: k for k, v in emp_ids.items()}\n",
    "print(reversed_dict[103])"
   ]
  }
 ],
 "metadata": {},
 "nbformat": 4,
 "nbformat_minor": 5
}

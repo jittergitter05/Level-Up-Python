{
  "nbformat": 4,
  "nbformat_minor": 0,
  "metadata": {
    "colab": {
      "provenance": []
    },
    "kernelspec": {
      "name": "python3",
      "display_name": "Python 3"
    },
    "language_info": {
      "name": "python"
    }
  },
  "cells": [
    {
      "cell_type": "markdown",
      "source": [
        "# Day 1: Strings, Conditionals & Formatting\n",
        "**Date:** July 17, 2025\n",
        "\n",
        "## Summary\n",
        "Practiced basic Python syntax related to strings and conditional statements. Focused on f-strings, string operations, and logical flow using if-else.\n",
        "\n",
        "## Concepts Covered\n",
        "- String basics and formatting\n",
        "- Conditional blocks (if-elif-else)\n",
        "- Practical input/output handling\n"
      ],
      "metadata": {
        "id": "OOCk0MJnlron"
      }
    },
    {
      "cell_type": "code",
      "source": [
        "#Code Cell 1 – String Formatting:\n",
        "# Using f-string for formatting\n",
        "name = \"Kaisif\"\n",
        "age = 21\n",
        "print(f\"My name is {name} and I am {age} years old.\")"
      ],
      "metadata": {
        "colab": {
          "base_uri": "https://localhost:8080/"
        },
        "id": "JBhjYGW-luYq",
        "outputId": "2b5a0572-fd90-4e3b-a4d4-b54eecd54134"
      },
      "execution_count": 1,
      "outputs": [
        {
          "output_type": "stream",
          "name": "stdout",
          "text": [
            "My name is Kaisif and I am 21 years old.\n"
          ]
        }
      ]
    },
    {
      "cell_type": "code",
      "source": [
        "#Code Cell 2 – Conditional Logic:\n",
        "# Greet based on time of day\n",
        "hour = int(input(\"Enter the hour (0-23): \"))\n",
        "\n",
        "if 5 <= hour < 12:\n",
        "    print(\"Good morning!\")\n",
        "elif 12 <= hour < 18:\n",
        "    print(\"Good afternoon!\")\n",
        "elif 18 <= hour < 22:\n",
        "    print(\"Good evening!\")\n",
        "else:\n",
        "    print(\"Good night!\")"
      ],
      "metadata": {
        "colab": {
          "base_uri": "https://localhost:8080/"
        },
        "id": "QHrps5g6mCJu",
        "outputId": "7dc6b8ae-4a5e-427b-a26b-22182969e9e7"
      },
      "execution_count": 2,
      "outputs": [
        {
          "output_type": "stream",
          "name": "stdout",
          "text": [
            "Enter the hour (0-23): 22\n",
            "Good night!\n"
          ]
        }
      ]
    },
    {
      "cell_type": "markdown",
      "source": [
        "### Reflection\n",
        "Practiced formatting outputs for user-friendly display. Improved understanding of conditional control flow. Need to work more on nested conditions and edge cases.\n"
      ],
      "metadata": {
        "id": "AK5VDeoimLuT"
      }
    }
  ]
}